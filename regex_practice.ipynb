{
 "cells": [
  {
   "cell_type": "code",
   "execution_count": 1,
   "metadata": {},
   "outputs": [],
   "source": [
    "import re\n",
    "import pandas as pd\n",
    "import numpy as np\n",
    "import matplotlib.pyplot as plt"
   ]
  },
  {
   "cell_type": "code",
   "execution_count": 69,
   "metadata": {},
   "outputs": [
    {
     "name": "stdout",
     "output_type": "stream",
     "text": [
      "Analytics Vid\n"
     ]
    }
   ],
   "source": [
    "result = re.search(r'(Analytics) Vid', 'AV Analytics Vidhya AV')\n",
    "print (result.group(0))"
   ]
  },
  {
   "cell_type": "code",
   "execution_count": 12,
   "metadata": {},
   "outputs": [
    {
     "name": "stdout",
     "output_type": "stream",
     "text": [
      "0\n"
     ]
    },
    {
     "data": {
      "text/plain": [
       "2"
      ]
     },
     "execution_count": 12,
     "metadata": {},
     "output_type": "execute_result"
    }
   ],
   "source": [
    "print (result.start())\n",
    "result.end()"
   ]
  },
  {
   "cell_type": "code",
   "execution_count": 45,
   "metadata": {},
   "outputs": [
    {
     "name": "stdout",
     "output_type": "stream",
     "text": [
      "['/select', '/selects']\n",
      "<_sre.SRE_Match object; span=(4, 11), match='/select'>\n"
     ]
    },
    {
     "data": {
      "text/plain": [
       "<callable_iterator at 0x17582984fd0>"
      ]
     },
     "execution_count": 45,
     "metadata": {},
     "output_type": "execute_result"
    }
   ],
   "source": [
    "result = re.findall('/selects?', 'abc /select /selects abc')\n",
    "print (result)\n",
    "result2 = re.search('/selects?', 'abc /select /selects abc')\n",
    "print (result2)\n",
    "result3 = re.finditer('/selects?', 'abc /select /selects abc')\n",
    "result3"
   ]
  },
  {
   "cell_type": "code",
   "execution_count": 56,
   "metadata": {},
   "outputs": [
    {
     "data": {
      "text/plain": [
       "<_sre.SRE_Match object; span=(0, 2), match='av'>"
      ]
     },
     "execution_count": 56,
     "metadata": {},
     "output_type": "execute_result"
    }
   ],
   "source": [
    "prog = re.compile('AV',re.IGNORECASE)\n",
    "result = prog.match('av analytics av')\n",
    "result"
   ]
  },
  {
   "cell_type": "code",
   "execution_count": 22,
   "metadata": {},
   "outputs": [
    {
     "name": "stdout",
     "output_type": "stream",
     "text": [
      "['\\n']\n"
     ]
    }
   ],
   "source": [
    "result = re.findall('\\\\n', 'E P  a ul EB a \\\\n\\n abc')\n",
    "print (result)"
   ]
  },
  {
   "cell_type": "code",
   "execution_count": 61,
   "metadata": {},
   "outputs": [
    {
     "data": {
      "text/plain": [
       "'Y 1'"
      ]
     },
     "execution_count": 61,
     "metadata": {},
     "output_type": "execute_result"
    }
   ],
   "source": [
    "res=re.search(r'[A-Z]\\s[0-9]','N Y 1 A 0')\n",
    "res.group()"
   ]
  },
  {
   "cell_type": "code",
   "execution_count": 7,
   "metadata": {},
   "outputs": [],
   "source": [
    "S= ['t\\0e','s','t','s','t','r','i','n','g']"
   ]
  },
  {
   "cell_type": "code",
   "execution_count": 8,
   "metadata": {},
   "outputs": [
    {
     "data": {
      "text/plain": [
       "['t\\x00e', 's', 't', 's', 't', 'r', 'i', 'n', 'g']"
      ]
     },
     "execution_count": 8,
     "metadata": {},
     "output_type": "execute_result"
    }
   ],
   "source": []
  },
  {
   "cell_type": "code",
   "execution_count": 34,
   "metadata": {},
   "outputs": [
    {
     "name": "stdout",
     "output_type": "stream",
     "text": [
      "\\n\n"
     ]
    }
   ],
   "source": [
    "print (r'\\n')"
   ]
  },
  {
   "cell_type": "code",
   "execution_count": 27,
   "metadata": {},
   "outputs": [
    {
     "name": "stdout",
     "output_type": "stream",
     "text": [
      "\n",
      "\n"
     ]
    }
   ],
   "source": [
    "print ('\\n')"
   ]
  },
  {
   "cell_type": "code",
   "execution_count": 78,
   "metadata": {},
   "outputs": [],
   "source": [
    "res=re.match(r'a\\rb','b')\n",
    "res"
   ]
  },
  {
   "cell_type": "code",
   "execution_count": 68,
   "metadata": {},
   "outputs": [
    {
     "name": "stdout",
     "output_type": "stream",
     "text": [
      "<_sre.SRE_Match object; span=(3, 22), match='Analytics Vidhya AV'>\n"
     ]
    }
   ],
   "source": [
    "result = re.search(r'analytics (.*)', 'AV Analytics Vidhya AV',re.I | re.S)\n",
    "print (result)"
   ]
  },
  {
   "cell_type": "code",
   "execution_count": 72,
   "metadata": {},
   "outputs": [
    {
     "data": {
      "text/plain": [
       "'http://url.com/123 http://url.com/456'"
      ]
     },
     "execution_count": 72,
     "metadata": {},
     "output_type": "execute_result"
    }
   ],
   "source": [
    "msg = 'this is the message. review: http://url.com/123 http://url.com/456'\n",
    "\n",
    "review_pattern = re.compile('.*review: (.*)$')\n",
    "urls = review_pattern.findall(msg)[0]\n",
    "urls"
   ]
  },
  {
   "cell_type": "code",
   "execution_count": null,
   "metadata": {},
   "outputs": [],
   "source": [
    "str.contain()"
   ]
  },
  {
   "cell_type": "code",
   "execution_count": 6,
   "metadata": {},
   "outputs": [
    {
     "name": "stdout",
     "output_type": "stream",
     "text": [
      "<addinfourl at 1612720909504 whose fp = <_io.BufferedReader name='C:\\\\Users\\\\user\\\\Desktop\\\\details2.htm'>>\n"
     ]
    }
   ],
   "source": [
    "from urllib.request import urlopen\n",
    "html = urlopen(\"file:///C:/Users/user/Desktop/details2.htm\")\n",
    "print(html)"
   ]
  },
  {
   "cell_type": "code",
   "execution_count": 31,
   "metadata": {},
   "outputs": [
    {
     "name": "stdout",
     "output_type": "stream",
     "text": [
      "<_sre.SRE_Match object; span=(20, 22), match='CV'>\n"
     ]
    }
   ],
   "source": [
    "result = re.search(r'CV', 'AV Analytics Vidhya CV',19)\n",
    "print (result)"
   ]
  },
  {
   "cell_type": "code",
   "execution_count": 53,
   "metadata": {},
   "outputs": [],
   "source": [
    "prog = re.compile('AV',re.IGNORECASE)\n",
    "result = prog.match('cv analytics av',endpos=15)\n",
    "result"
   ]
  },
  {
   "cell_type": "code",
   "execution_count": 61,
   "metadata": {},
   "outputs": [],
   "source": [
    "def sortNumsAscending(lst):\n",
    "  list=[]\n",
    "  j=0\n",
    "  while j<4:\n",
    "\t  j=j+1;\n",
    "\t  a=lst[0]\n",
    "\t  for i in lst:\n",
    "\t\t  if(i<a):\n",
    "\t\t\t  a = i;\n",
    "\t  list.append(a)\n",
    "\t  lst.remove(a)\n",
    "\treturn list"
   ]
  },
  {
   "cell_type": "code",
   "execution_count": null,
   "metadata": {},
   "outputs": [],
   "source": [
    "def reverse(arg):\t\n",
    "\tif(arg is True| arg is False):  \n",
    "\t  return arg!= True\n",
    "\telse:\n",
    "\t\treturn \"boolean expected\"\n",
    "    "
   ]
  },
  {
   "cell_type": "code",
   "execution_count": 72,
   "metadata": {},
   "outputs": [],
   "source": [
    "def mean(lst):\n",
    "\tc=0\n",
    "\tfor l in lst:\n",
    "\t\tc=c+l;\n",
    "\treturn c/count(lst)"
   ]
  },
  {
   "cell_type": "code",
   "execution_count": null,
   "metadata": {},
   "outputs": [],
   "source": [
    "def mean(lst):\n",
    "\ta,d=0;\n",
    "\tfor i in lst:\n",
    "\t\ta=a+i\n",
    "\t\td=d+1\n",
    "\treturn a/d"
   ]
  }
 ],
 "metadata": {
  "kernelspec": {
   "display_name": "Python 3",
   "language": "python",
   "name": "python3"
  },
  "language_info": {
   "codemirror_mode": {
    "name": "ipython",
    "version": 3
   },
   "file_extension": ".py",
   "mimetype": "text/x-python",
   "name": "python",
   "nbconvert_exporter": "python",
   "pygments_lexer": "ipython3",
   "version": "3.6.4"
  }
 },
 "nbformat": 4,
 "nbformat_minor": 2
}
